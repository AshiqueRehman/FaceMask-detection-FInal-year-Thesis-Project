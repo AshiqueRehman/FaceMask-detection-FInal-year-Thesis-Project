{
  "nbformat": 4,
  "nbformat_minor": 0,
  "metadata": {
    "colab": {
      "provenance": [],
      "collapsed_sections": [],
      "authorship_tag": "ABX9TyOPVOA+pS1tV98rDVEtcfvR",
      "include_colab_link": true
    },
    "kernelspec": {
      "name": "python3",
      "display_name": "Python 3"
    },
    "language_info": {
      "name": "python"
    }
  },
  "cells": [
    {
      "cell_type": "markdown",
      "metadata": {
        "id": "view-in-github",
        "colab_type": "text"
      },
      "source": [
        "<a href=\"https://colab.research.google.com/github/AshiqueRehman/FaceMask-detection-FInal-year-Thesis-Project/blob/main/HandWrittenDigitRecognization.ipynb\" target=\"_parent\"><img src=\"https://colab.research.google.com/assets/colab-badge.svg\" alt=\"Open In Colab\"/></a>"
      ]
    },
    {
      "cell_type": "markdown",
      "source": [
        "### **HandWrittenDigitRecognization**"
      ],
      "metadata": {
        "id": "rv5Sblutpb12"
      }
    },
    {
      "cell_type": "markdown",
      "source": [
        "Importing Libraries\n"
      ],
      "metadata": {
        "id": "IRq91ISi8FU9"
      }
    },
    {
      "cell_type": "code",
      "execution_count": 2,
      "metadata": {
        "id": "yf9ehQCPo4pE"
      },
      "outputs": [],
      "source": [
        "import numpy as np\n",
        "from sklearn.datasets import load_digits#load dataset"
      ]
    },
    {
      "cell_type": "markdown",
      "source": [
        "Load dataset"
      ],
      "metadata": {
        "id": "EeVZoIZ494U_"
      }
    },
    {
      "cell_type": "code",
      "source": [
        "dataset= load_digits()"
      ],
      "metadata": {
        "id": "Z8pssP7U8OIr"
      },
      "execution_count": 4,
      "outputs": []
    },
    {
      "cell_type": "markdown",
      "source": [
        "Summarize Dataset"
      ],
      "metadata": {
        "id": "pgl1viI5-FqK"
      }
    },
    {
      "cell_type": "code",
      "source": [
        "print(dataset.data)\n",
        "print(dataset.target)\n",
        "print(dataset.data.shape)\n",
        "print(dataset.images.shape)\n",
        "dataimageLength =len(dataset.images)\n",
        "dataimageLength= len(dataset.images)\n",
        "print(dataimageLength)"
      ],
      "metadata": {
        "colab": {
          "base_uri": "https://localhost:8080/"
        },
        "id": "BVoNGKKr-JEL",
        "outputId": "1873fed7-5071-47aa-8790-e9b9b37b7ab2"
      },
      "execution_count": 5,
      "outputs": [
        {
          "output_type": "stream",
          "name": "stdout",
          "text": [
            "[[ 0.  0.  5. ...  0.  0.  0.]\n",
            " [ 0.  0.  0. ... 10.  0.  0.]\n",
            " [ 0.  0.  0. ... 16.  9.  0.]\n",
            " ...\n",
            " [ 0.  0.  1. ...  6.  0.  0.]\n",
            " [ 0.  0.  2. ... 12.  0.  0.]\n",
            " [ 0.  0. 10. ... 12.  1.  0.]]\n",
            "[0 1 2 ... 8 9 8]\n",
            "(1797, 64)\n",
            "(1797, 8, 8)\n",
            "1797\n"
          ]
        }
      ]
    },
    {
      "cell_type": "markdown",
      "source": [
        "**Visualize the Dataset**"
      ],
      "metadata": {
        "id": "6nncaZ5FIHi6"
      }
    },
    {
      "cell_type": "code",
      "source": [
        "n=int(input(\"please enter any number to see visualization\"))#any random sample from the total sample 1797 sample to see\n",
        "import matplotlib.pyplot as plt#for data visualization\n",
        "plt.gray()\n",
        "plt.matshow(dataset.images[n])\n",
        "plt.show()\n",
        "dataset.images[n]"
      ],
      "metadata": {
        "colab": {
          "base_uri": "https://localhost:8080/",
          "height": 449
        },
        "id": "LZVNlonaIQbF",
        "outputId": "dcb43731-cafc-41fb-abd8-454826b3e7d5"
      },
      "execution_count": 11,
      "outputs": [
        {
          "name": "stdout",
          "output_type": "stream",
          "text": [
            "please enter any number to see visualization22\n"
          ]
        },
        {
          "output_type": "display_data",
          "data": {
            "text/plain": [
              "<Figure size 432x288 with 0 Axes>"
            ]
          },
          "metadata": {}
        },
        {
          "output_type": "display_data",
          "data": {
            "text/plain": [
              "<Figure size 288x288 with 1 Axes>"
            ],
            "image/png": "[encoded data removed]"
          },
          "metadata": {
            "needs_background": "light"
          }
        },
        {
          "output_type": "execute_result",
          "data": {
            "text/plain": [
              "array([[ 0.,  0.,  8., 16.,  5.,  0.,  0.,  0.],\n",
              "       [ 0.,  1., 13., 11., 16.,  0.,  0.,  0.],\n",
              "       [ 0.,  0., 10.,  0., 13.,  3.,  0.,  0.],\n",
              "       [ 0.,  0.,  3.,  1., 16.,  1.,  0.,  0.],\n",
              "       [ 0.,  0.,  0.,  9., 12.,  0.,  0.,  0.],\n",
              "       [ 0.,  0.,  3., 15.,  5.,  0.,  0.,  0.],\n",
              "       [ 0.,  0., 14., 15.,  8.,  8.,  3.,  0.],\n",
              "       [ 0.,  0.,  7., 12., 12., 12., 13.,  1.]])"
            ]
          },
          "metadata": {},
          "execution_count": 11
        }
      ]
    },
    {
      "cell_type": "markdown",
      "source": [
        "\n",
        "\n",
        "\n",
        "\n",
        "Segression Dataset into X(input/independent variable) & Y(output/Dependent variable)\n",
        "\n",
        "\n"
      ],
      "metadata": {
        "id": "1t3SxrX_OAtB"
      }
    },
    {
      "cell_type": "code",
      "source": [
        "\n",
        "X= dataset.images.reshape((dataimageLength,-1))\n",
        "X\n"
      ],
      "metadata": {
        "colab": {
          "base_uri": "https://localhost:8080/"
        },
        "id": "rSE8CB5COYPy",
        "outputId": "afe981cb-3d29-493b-8648-bc3c68a5f97d"
      },
      "execution_count": 13,
      "outputs": [
        {
          "output_type": "execute_result",
          "data": {
            "text/plain": [
              "array([[ 0.,  0.,  5., ...,  0.,  0.,  0.],\n",
              "       [ 0.,  0.,  0., ..., 10.,  0.,  0.],\n",
              "       [ 0.,  0.,  0., ..., 16.,  9.,  0.],\n",
              "       ...,\n",
              "       [ 0.,  0.,  1., ...,  6.,  0.,  0.],\n",
              "       [ 0.,  0.,  2., ..., 12.,  0.,  0.],\n",
              "       [ 0.,  0., 10., ..., 12.,  1.,  0.]])"
            ]
          },
          "metadata": {},
          "execution_count": 13
        }
      ]
    },
    {
      "cell_type": "code",
      "source": [
        "Y= dataset.target\n",
        "Y"
      ],
      "metadata": {
        "colab": {
          "base_uri": "https://localhost:8080/"
        },
        "id": "yMyQPVo4O8m-",
        "outputId": "e2323524-3e11-4144-a2d8-d8392a79ef43"
      },
      "execution_count": 14,
      "outputs": [
        {
          "output_type": "execute_result",
          "data": {
            "text/plain": [
              "array([0, 1, 2, ..., 8, 9, 8])"
            ]
          },
          "metadata": {},
          "execution_count": 14
        }
      ]
    },
    {
      "cell_type": "markdown",
      "source": [
        "Splitting Dataset into Train and test\n",
        " \n"
      ],
      "metadata": {
        "id": "u_0v5r1gO5rn"
      }
    },
    {
      "cell_type": "code",
      "source": [
        "from sklearn.model_selection import train_test_split\n",
        "X_train,X_test,Y_train,Y_test =train_test_split(X,Y, test_size=0.25,random_state=0)\n",
        "print(X_train.shape)\n",
        "print(X_test.shape)\n"
      ],
      "metadata": {
        "colab": {
          "base_uri": "https://localhost:8080/"
        },
        "id": "2aXVc-bIPg1u",
        "outputId": "9f449b2f-a9f3-4b7b-ff3d-4078b82e1ba7"
      },
      "execution_count": 20,
      "outputs": [
        {
          "output_type": "stream",
          "name": "stdout",
          "text": [
            "(1347, 64)\n",
            "(450, 64)\n"
          ]
        }
      ]
    },
    {
      "cell_type": "markdown",
      "source": [
        "Training"
      ],
      "metadata": {
        "id": "3bIhxMG7RRR6"
      }
    },
    {
      "cell_type": "code",
      "source": [
        "from sklearn import svm\n",
        "model = svm.SVC()#loading the algorithm\n",
        "model.fit(X_train,Y_train )#train"
      ],
      "metadata": {
        "colab": {
          "base_uri": "https://localhost:8080/"
        },
        "id": "596im0lJRUfH",
        "outputId": "ef835be4-321a-4009-cd4c-da00aab1ebf8"
      },
      "execution_count": 30,
      "outputs": [
        {
          "output_type": "execute_result",
          "data": {
            "text/plain": [
              "SVC()"
            ]
          },
          "metadata": {},
          "execution_count": 30
        }
      ]
    },
    {
      "cell_type": "markdown",
      "source": [
        "prediction"
      ],
      "metadata": {
        "id": "_m94T7fASH8y"
      }
    },
    {
      "cell_type": "code",
      "source": [
        "n=int(input(\"input the number any sample pic \"))\n",
        "result = model.predict(dataset.images[n].reshape((1,-1)))\n",
        "plt.imshow(dataset.images[n],cmap=plt.cm.gray_r,interpolation='nearest')\n",
        "print(result)\n",
        "print(\"\\n\") \n",
        "plt.axis(\"off\")\n",
        "plt.title('%i'%result)\n",
        "plt.show"
      ],
      "metadata": {
        "colab": {
          "base_uri": "https://localhost:8080/",
          "height": 351
        },
        "id": "R0n-ypmUTZn5",
        "outputId": "919bc703-925a-4c27-fab5-fbb9f6c891e1"
      },
      "execution_count": 37,
      "outputs": [
        {
          "output_type": "stream",
          "name": "stdout",
          "text": [
            "input the number any sample pic 222\n",
            "[7]\n",
            "\n",
            "\n"
          ]
        },
        {
          "output_type": "execute_result",
          "data": {
            "text/plain": [
              "<function matplotlib.pyplot.show(*args, **kw)>"
            ]
          },
          "metadata": {},
          "execution_count": 37
        },
        {
          "output_type": "display_data",
          "data": {
            "text/plain": [
              "<Figure size 432x288 with 1 Axes>"
            ],
            "image/png": "[encoded data removed]"
          },
          "metadata": {
            "needs_background": "light"
          }
        }
      ]
    },
    {
      "cell_type": "markdown",
      "source": [
        "prediction for Test Data"
      ],
      "metadata": {
        "id": "XjSKU58nTSxC"
      }
    },
    {
      "cell_type": "code",
      "source": [
        "y_pred = model.predict(X_test)\n",
        "#print(np.concatenate((Y_pred.reshape(len(Y_pred),1), y_test.reshape(len(y_test),1)),1))"
      ],
      "metadata": {
        "id": "Ag8IeGD5SHei"
      },
      "execution_count": 24,
      "outputs": []
    },
    {
      "cell_type": "markdown",
      "source": [
        "Evaluate model Accuracy\n"
      ],
      "metadata": {
        "id": "1CXxzL79Sr7x"
      }
    },
    {
      "cell_type": "code",
      "source": [
        "from sklearn.metrics import accuracy_score\n",
        "print(\"Accuracy of the Model :{0}%\".format(accuracy_score(Y_test,y_pred)*100))"
      ],
      "metadata": {
        "colab": {
          "base_uri": "https://localhost:8080/"
        },
        "id": "cxG_EyVxSx4x",
        "outputId": "0692d714-9627-4601-b3f2-c90dcb25687c"
      },
      "execution_count": 39,
      "outputs": [
        {
          "output_type": "stream",
          "name": "stdout",
          "text": [
            "Accuracy of the Model :99.11111111111111%\n"
          ]
        }
      ]
    },
    {
      "cell_type": "markdown",
      "source": [
        " Tuning and Multiple model testing"
      ],
      "metadata": {
        "id": "mojGhdquWWAB"
      }
    },
    {
      "cell_type": "code",
      "source": [
        "from sklearn import svm\n",
        "model1=svm.SVC(kernel='linear')\n",
        "model2=svm.SVC(verbose=True)\n",
        "model3=svm.SVC( degree=2,gamma=0.001)\n",
        "\n",
        "model1.fit(X_train,Y_train )\n",
        "model2.fit(X_train,Y_train )\n",
        "model3.fit(X_train,Y_train )\n",
        "\n",
        "y_pred1 = model1.predict(X_test)\n",
        "y_pred2 = model2.predict(X_test)\n",
        "y_pred3 = model3.predict(X_test)\n",
        "\n",
        "print(\"Accuracy of the Model :{0}%\".format(accuracy_score(Y_test,y_pred1)*100))\n",
        "print(\"Accuracy of the Model :{0}%\".format(accuracy_score(Y_test,y_pred2)*100))\n",
        "print(\"Accuracy of the Model :{0}%\".format(accuracy_score(Y_test,y_pred3)*100))\n"
      ],
      "metadata": {
        "colab": {
          "base_uri": "https://localhost:8080/"
        },
        "id": "1DQCQehvWe6h",
        "outputId": "91fd73ab-184b-40c2-e235-8b82483ca251"
      },
      "execution_count": 55,
      "outputs": [
        {
          "output_type": "stream",
          "name": "stdout",
          "text": [
            "[LibSVM]Accuracy of the Model :97.11111111111111%\n",
            "Accuracy of the Model :99.11111111111111%\n",
            "Accuracy of the Model :99.55555555555556%\n"
          ]
        }
      ]
    }
  ]
}