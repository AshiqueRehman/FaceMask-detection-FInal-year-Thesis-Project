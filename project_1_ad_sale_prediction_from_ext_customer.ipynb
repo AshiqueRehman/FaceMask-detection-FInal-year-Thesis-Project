{
  "nbformat": 4,
  "nbformat_minor": 0,
  "metadata": {
    "colab": {
      "provenance": [],
      "collapsed_sections": [],
      "authorship_tag": "ABX9TyO49E4XvJ6nmcFMfLRXLNHL",
      "include_colab_link": true
    },
    "kernelspec": {
      "name": "python3",
      "display_name": "Python 3"
    },
    "language_info": {
      "name": "python"
    }
  },
  "cells": [
    {
      "cell_type": "markdown",
      "metadata": {
        "id": "view-in-github",
        "colab_type": "text"
      },
      "source": [
        "<a href=\"https://colab.research.google.com/github/AshiqueRehman/FaceMask-detection-FInal-year-Thesis-Project/blob/main/project_1_ad_sale_prediction_from_ext_customer.ipynb\" target=\"_parent\"><img src=\"https://colab.research.google.com/assets/colab-badge.svg\" alt=\"Open In Colab\"/></a>"
      ]
    },
    {
      "cell_type": "markdown",
      "source": [
        "#  Ad. Sale Prediction From Ext customer\n",
        "\n"
      ],
      "metadata": {
        "id": "AJFgm3I3HLLs"
      }
    },
    {
      "cell_type": "markdown",
      "source": [
        "**Importing Liabraries**"
      ],
      "metadata": {
        "id": "zDBKVsRTHMBF"
      }
    },
    {
      "cell_type": "code",
      "execution_count": null,
      "metadata": {
        "id": "U9wfXP70HBYp"
      },
      "outputs": [],
      "source": [
        "import pandas as pd  # Useful for loading the dataset\n",
        "import numpy as np  # to perform  array\n"
      ]
    },
    {
      "cell_type": "markdown",
      "source": [
        "**Choose Dataset file from Local Directory**"
      ],
      "metadata": {
        "id": "GHfyf3VSIBOL"
      }
    },
    {
      "cell_type": "code",
      "source": [
        "from google.colab import files\n",
        "uploaded = files.upload()"
      ],
      "metadata": {
        "colab": {
          "base_uri": "https://localhost:8080/",
          "height": 73
        },
        "id": "zbnRrI6_IIb3",
        "outputId": "2f78936a-7864-452e-d86f-eb9a69fbf65c"
      },
      "execution_count": null,
      "outputs": [
        {
          "output_type": "display_data",
          "data": {
            "text/plain": [
              "<IPython.core.display.HTML object>"
            ],
            "text/html": [
              "\n",
              "     <input type=\"file\" id=\"files-8b9b5a08-bd74-41d3-a7c5-fdbfbfa2910d\" name=\"files[]\" multiple disabled\n",
              "        style=\"border:none\" />\n",
              "     <output id=\"result-8b9b5a08-bd74-41d3-a7c5-fdbfbfa2910d\">\n",
              "      Upload widget is only available when the cell has been executed in the\n",
              "      current browser session. Please rerun this cell to enable.\n",
              "      </output>\n",
              "      <script>// Copyright 2017 Google LLC\n",
              "//\n",
              "// Licensed under the Apache License, Version 2.0 (the \"License\");\n",
              "// you may not use this file except in compliance with the License.\n",
              "// You may obtain a copy of the License at\n",
              "//\n",
              "//      http://www.apache.org/licenses/LICENSE-2.0\n",
              "//\n",
              "// Unless required by applicable law or agreed to in writing, software\n",
              "// distributed under the License is distributed on an \"AS IS\" BASIS,\n",
              "// WITHOUT WARRANTIES OR CONDITIONS OF ANY KIND, either express or implied.\n",
              "// See the License for the specific language governing permissions and\n",
              "// limitations under the License.\n",
              "\n",
              "/**\n",
              " * @fileoverview Helpers for google.colab Python module.\n",
              " */\n",
              "(function(scope) {\n",
              "function span(text, styleAttributes = {}) {\n",
              "  const element = document.createElement('span');\n",
              "  element.textContent = text;\n",
              "  for (const key of Object.keys(styleAttributes)) {\n",
              "    element.style[key] = styleAttributes[key];\n",
              "  }\n",
              "  return element;\n",
              "}\n",
              "\n",
              "// Max number of bytes which will be uploaded at a time.\n",
              "const MAX_PAYLOAD_SIZE = 100 * 1024;\n",
              "\n",
              "function _uploadFiles(inputId, outputId) {\n",
              "  const steps = uploadFilesStep(inputId, outputId);\n",
              "  const outputElement = document.getElementById(outputId);\n",
              "  // Cache steps on the outputElement to make it available for the next call\n",
              "  // to uploadFilesContinue from Python.\n",
              "  outputElement.steps = steps;\n",
              "\n",
              "  return _uploadFilesContinue(outputId);\n",
              "}\n",
              "\n",
              "// This is roughly an async generator (not supported in the browser yet),\n",
              "// where there are multiple asynchronous steps and the Python side is going\n",
              "// to poll for completion of each step.\n",
              "// This uses a Promise to block the python side on completion of each step,\n",
              "// then passes the result of the previous step as the input to the next step.\n",
              "function _uploadFilesContinue(outputId) {\n",
              "  const outputElement = document.getElementById(outputId);\n",
              "  const steps = outputElement.steps;\n",
              "\n",
              "  const next = steps.next(outputElement.lastPromiseValue);\n",
              "  return Promise.resolve(next.value.promise).then((value) => {\n",
              "    // Cache the last promise value to make it available to the next\n",
              "    // step of the generator.\n",
              "    outputElement.lastPromiseValue = value;\n",
              "    return next.value.response;\n",
              "  });\n",
              "}\n",
              "\n",
              "/**\n",
              " * Generator function which is called between each async step of the upload\n",
              " * process.\n",
              " * @param {string} inputId Element ID of the input file picker element.\n",
              " * @param {string} outputId Element ID of the output display.\n",
              " * @return {!Iterable<!Object>} Iterable of next steps.\n",
              " */\n",
              "function* uploadFilesStep(inputId, outputId) {\n",
              "  const inputElement = document.getElementById(inputId);\n",
              "  inputElement.disabled = false;\n",
              "\n",
              "  const outputElement = document.getElementById(outputId);\n",
              "  outputElement.innerHTML = '';\n",
              "\n",
              "  const pickedPromise = new Promise((resolve) => {\n",
              "    inputElement.addEventListener('change', (e) => {\n",
              "      resolve(e.target.files);\n",
              "    });\n",
              "  });\n",
              "\n",
              "  const cancel = document.createElement('button');\n",
              "  inputElement.parentElement.appendChild(cancel);\n",
              "  cancel.textContent = 'Cancel upload';\n",
              "  const cancelPromise = new Promise((resolve) => {\n",
              "    cancel.onclick = () => {\n",
              "      resolve(null);\n",
              "    };\n",
              "  });\n",
              "\n",
              "  // Wait for the user to pick the files.\n",
              "  const files = yield {\n",
              "    promise: Promise.race([pickedPromise, cancelPromise]),\n",
              "    response: {\n",
              "      action: 'starting',\n",
              "    }\n",
              "  };\n",
              "\n",
              "  cancel.remove();\n",
              "\n",
              "  // Disable the input element since further picks are not allowed.\n",
              "  inputElement.disabled = true;\n",
              "\n",
              "  if (!files) {\n",
              "    return {\n",
              "      response: {\n",
              "        action: 'complete',\n",
              "      }\n",
              "    };\n",
              "  }\n",
              "\n",
              "  for (const file of files) {\n",
              "    const li = document.createElement('li');\n",
              "    li.append(span(file.name, {fontWeight: 'bold'}));\n",
              "    li.append(span(\n",
              "        `(${file.type || 'n/a'}) - ${file.size} bytes, ` +\n",
              "        `last modified: ${\n",
              "            file.lastModifiedDate ? file.lastModifiedDate.toLocaleDateString() :\n",
              "                                    'n/a'} - `));\n",
              "    const percent = span('0% done');\n",
              "    li.appendChild(percent);\n",
              "\n",
              "    outputElement.appendChild(li);\n",
              "\n",
              "    const fileDataPromise = new Promise((resolve) => {\n",
              "      const reader = new FileReader();\n",
              "      reader.onload = (e) => {\n",
              "        resolve(e.target.result);\n",
              "      };\n",
              "      reader.readAsArrayBuffer(file);\n",
              "    });\n",
              "    // Wait for the data to be ready.\n",
              "    let fileData = yield {\n",
              "      promise: fileDataPromise,\n",
              "      response: {\n",
              "        action: 'continue',\n",
              "      }\n",
              "    };\n",
              "\n",
              "    // Use a chunked sending to avoid message size limits. See b/62115660.\n",
              "    let position = 0;\n",
              "    do {\n",
              "      const length = Math.min(fileData.byteLength - position, MAX_PAYLOAD_SIZE);\n",
              "      const chunk = new Uint8Array(fileData, position, length);\n",
              "      position += length;\n",
              "\n",
              "      const base64 = btoa(String.fromCharCode.apply(null, chunk));\n",
              "      yield {\n",
              "        response: {\n",
              "          action: 'append',\n",
              "          file: file.name,\n",
              "          data: base64,\n",
              "        },\n",
              "      };\n",
              "\n",
              "      let percentDone = fileData.byteLength === 0 ?\n",
              "          100 :\n",
              "          Math.round((position / fileData.byteLength) * 100);\n",
              "      percent.textContent = `${percentDone}% done`;\n",
              "\n",
              "    } while (position < fileData.byteLength);\n",
              "  }\n",
              "\n",
              "  // All done.\n",
              "  yield {\n",
              "    response: {\n",
              "      action: 'complete',\n",
              "    }\n",
              "  };\n",
              "}\n",
              "\n",
              "scope.google = scope.google || {};\n",
              "scope.google.colab = scope.google.colab || {};\n",
              "scope.google.colab._files = {\n",
              "  _uploadFiles,\n",
              "  _uploadFilesContinue,\n",
              "};\n",
              "})(self);\n",
              "</script> "
            ]
          },
          "metadata": {}
        },
        {
          "output_type": "stream",
          "name": "stdout",
          "text": [
            "Saving dataset.csv to dataset (3).csv\n"
          ]
        }
      ]
    },
    {
      "cell_type": "markdown",
      "source": [
        "**Load Dataset**"
      ],
      "metadata": {
        "id": "Uca0m9tTUn3I"
      }
    },
    {
      "cell_type": "code",
      "source": [
        "dataset = pd.read_csv(\"dataset.csv\")\n",
        "print(dataset)"
      ],
      "metadata": {
        "colab": {
          "base_uri": "https://localhost:8080/"
        },
        "id": "A1E6FxY-UnK9",
        "outputId": "c158ffc8-ba57-41a9-d14c-ae594cd21d3e"
      },
      "execution_count": null,
      "outputs": [
        {
          "output_type": "stream",
          "name": "stdout",
          "text": [
            "     Age  Salary   Status\n",
            "0     51    51408       0\n",
            "1     34    83327       1\n",
            "2     91    44525       1\n",
            "3     93    98703       1\n",
            "4     49    57908       1\n",
            "..   ...      ...     ...\n",
            "567   16    11788       0\n",
            "568   79    50418       0\n",
            "569   54    91780       0\n",
            "570   24    84851       1\n",
            "571   24    19991       1\n",
            "\n",
            "[572 rows x 3 columns]\n"
          ]
        }
      ]
    },
    {
      "cell_type": "markdown",
      "source": [
        "**Summarize Dataset**\n"
      ],
      "metadata": {
        "id": "ibN0QkTtWinN"
      }
    },
    {
      "cell_type": "code",
      "source": [
        "print(dataset.shape)#no. of rows and colums\n",
        "print(dataset.head(5))# top values of data"
      ],
      "metadata": {
        "colab": {
          "base_uri": "https://localhost:8080/"
        },
        "id": "CUljG70fWy-o",
        "outputId": "e7f14a82-3cb9-4623-fda6-5295ad7a5719"
      },
      "execution_count": null,
      "outputs": [
        {
          "output_type": "stream",
          "name": "stdout",
          "text": [
            "(572, 3)\n",
            "   Age  Salary   Status\n",
            "0   51    51408       0\n",
            "1   34    83327       1\n",
            "2   91    44525       1\n",
            "3   93    98703       1\n",
            "4   49    57908       1\n"
          ]
        }
      ]
    },
    {
      "cell_type": "markdown",
      "source": [
        "**Segression Dataset into X(input/independent variable) & Y(output/Dependent variable)**"
      ],
      "metadata": {
        "id": "6_EJz0F6XpUO"
      }
    },
    {
      "cell_type": "code",
      "source": [
        "X= dataset.iloc[:,:-1].values\n",
        "X"
      ],
      "metadata": {
        "colab": {
          "base_uri": "https://localhost:8080/"
        },
        "id": "89U5aPrTYDPD",
        "outputId": "7a546145-eca1-4563-a34d-215af2e54569"
      },
      "execution_count": null,
      "outputs": [
        {
          "output_type": "execute_result",
          "data": {
            "text/plain": [
              "array([[   51, 51408],\n",
              "       [   34, 83327],\n",
              "       [   91, 44525],\n",
              "       ...,\n",
              "       [   54, 91780],\n",
              "       [   24, 84851],\n",
              "       [   24, 19991]])"
            ]
          },
          "metadata": {},
          "execution_count": 48
        }
      ]
    },
    {
      "cell_type": "code",
      "source": [
        "Y= dataset.iloc[:,-1].values\n",
        "Y"
      ],
      "metadata": {
        "colab": {
          "base_uri": "https://localhost:8080/"
        },
        "id": "hbrsKdWXYgQh",
        "outputId": "27cebad5-5c8b-4d27-f7dd-5a8fe6a2746b"
      },
      "execution_count": null,
      "outputs": [
        {
          "output_type": "execute_result",
          "data": {
            "text/plain": [
              "array([0, 1, 1, 1, 1, 1, 0, 0, 1, 1, 1, 0, 0, 1, 0, 1, 1, 0, 0, 0, 0, 1,\n",
              "       0, 0, 0, 0, 0, 1, 1, 0, 0, 0, 1, 1, 0, 1, 0, 1, 0, 1, 0, 1, 1, 1,\n",
              "       0, 0, 1, 0, 0, 1, 0, 0, 1, 1, 1, 1, 1, 1, 1, 1, 1, 0, 1, 0, 0, 0,\n",
              "       0, 0, 1, 1, 1, 0, 0, 0, 1, 0, 0, 0, 1, 1, 1, 0, 0, 1, 0, 1, 1, 0,\n",
              "       1, 0, 0, 1, 1, 1, 0, 1, 0, 1, 0, 0, 1, 1, 0, 0, 0, 1, 1, 1, 1, 1,\n",
              "       0, 0, 1, 0, 0, 0, 0, 0, 1, 1, 1, 0, 1, 0, 0, 0, 1, 0, 1, 0, 0, 1,\n",
              "       0, 1, 0, 1, 1, 0, 0, 1, 1, 0, 1, 1, 0, 1, 1, 1, 1, 0, 1, 1, 0, 0,\n",
              "       1, 0, 1, 1, 0, 1, 0, 1, 1, 0, 0, 1, 1, 1, 1, 0, 0, 1, 1, 1, 0, 1,\n",
              "       0, 0, 1, 0, 1, 0, 1, 0, 1, 0, 1, 0, 0, 0, 1, 1, 1, 0, 0, 1, 1, 1,\n",
              "       1, 1, 0, 0, 0, 1, 1, 1, 0, 1, 0, 1, 1, 0, 0, 1, 0, 1, 1, 1, 0, 0,\n",
              "       0, 1, 1, 0, 1, 0, 1, 1, 1, 0, 1, 0, 0, 1, 1, 0, 1, 1, 1, 0, 1, 0,\n",
              "       0, 0, 0, 1, 0, 0, 1, 1, 1, 0, 1, 1, 0, 1, 1, 1, 1, 1, 0, 0, 0, 1,\n",
              "       1, 1, 0, 0, 0, 1, 0, 0, 1, 0, 0, 1, 0, 0, 1, 0, 0, 1, 0, 1, 0, 0,\n",
              "       0, 1, 0, 1, 1, 1, 1, 1, 1, 1, 0, 0, 0, 0, 1, 0, 0, 0, 1, 1, 0, 1,\n",
              "       0, 0, 0, 1, 1, 0, 0, 0, 1, 1, 0, 1, 0, 0, 1, 0, 0, 1, 0, 1, 1, 1,\n",
              "       1, 1, 0, 1, 1, 1, 1, 1, 0, 0, 1, 0, 0, 1, 1, 0, 0, 0, 0, 1, 0, 1,\n",
              "       1, 1, 0, 1, 0, 1, 1, 0, 0, 0, 1, 0, 0, 1, 1, 1, 0, 0, 1, 0, 1, 1,\n",
              "       0, 0, 0, 0, 0, 1, 0, 0, 1, 1, 0, 0, 1, 0, 0, 1, 0, 1, 0, 1, 1, 0,\n",
              "       1, 0, 1, 0, 0, 1, 0, 1, 0, 1, 0, 0, 0, 1, 0, 0, 1, 1, 1, 1, 1, 0,\n",
              "       1, 0, 0, 0, 0, 0, 0, 0, 0, 1, 0, 0, 0, 1, 1, 1, 0, 0, 0, 1, 0, 1,\n",
              "       1, 0, 0, 1, 0, 1, 1, 0, 1, 0, 0, 0, 0, 1, 1, 0, 0, 0, 1, 1, 0, 0,\n",
              "       0, 0, 1, 1, 0, 1, 0, 0, 1, 1, 1, 0, 0, 0, 1, 0, 1, 1, 0, 1, 1, 0,\n",
              "       1, 1, 0, 1, 1, 0, 0, 1, 0, 1, 0, 0, 1, 1, 1, 1, 0, 0, 1, 1, 0, 1,\n",
              "       1, 1, 0, 1, 1, 1, 0, 0, 1, 1, 0, 1, 0, 0, 1, 0, 0, 0, 1, 1, 1, 0,\n",
              "       0, 1, 1, 0, 1, 0, 1, 0, 1, 0, 0, 0, 1, 1, 0, 0, 0, 1, 0, 0, 1, 0,\n",
              "       1, 0, 0, 0, 1, 1, 1, 1, 1, 0, 1, 1, 1, 1, 0, 0, 1, 0, 0, 0, 1, 1])"
            ]
          },
          "metadata": {},
          "execution_count": 49
        }
      ]
    },
    {
      "cell_type": "markdown",
      "source": [
        "\n",
        "**Splitting Dataset into Train and Testt**"
      ],
      "metadata": {
        "id": "EHp8GerlYvJp"
      }
    },
    {
      "cell_type": "code",
      "source": [
        "from sklearn.model_selection import train_test_split\n",
        "X_train,X_test,Y_train,Y_test =train_test_split(X,Y, test_size=0.25,random_state=0)"
      ],
      "metadata": {
        "id": "wJAMfEO4Ypda"
      },
      "execution_count": null,
      "outputs": []
    },
    {
      "cell_type": "markdown",
      "source": [
        "**Feature Scaling**\n",
        "\n",
        "**Fit_Transform-** fit method is calculating the mean and variance of each of the features present in our data \n",
        "\n",
        "**Transform-** transform method is tranforming all the features using the respective mean and variance \n",
        "we want our test data to be a completely new and a surpirse set for our model **"
      ],
      "metadata": {
        "id": "8cS6LlY0boXL"
      }
    },
    {
      "cell_type": "code",
      "source": [
        "from sklearn.preprocessing import StandardScaler\n",
        "sc = StandardScaler()\n",
        "X_train = sc.fit_transform(X_train)\n",
        "X_test = sc.transform(X_test)\n",
        "print(X_train)"
      ],
      "metadata": {
        "colab": {
          "base_uri": "https://localhost:8080/"
        },
        "id": "gBrl5CMubsvX",
        "outputId": "8601e9ad-b2b9-460b-cedd-afa9f34aa4e6"
      },
      "execution_count": null,
      "outputs": [
        {
          "output_type": "stream",
          "name": "stdout",
          "text": [
            "[[ 1.40271770e+00  1.46480818e+00]\n",
            " [-1.71085646e+00 -5.88461254e-01]\n",
            " [-1.67701326e+00 -1.13826105e+00]\n",
            " [-1.00014931e+00 -1.21695755e+00]\n",
            " [-9.66306116e-01 -8.16571167e-02]\n",
            " [-1.67701326e+00 -1.49002534e+00]\n",
            " [ 9.62756130e-01 -6.43861441e-01]\n",
            " [ 9.62756130e-01  4.43379687e-02]\n",
            " [ 1.16676198e-01  4.32958536e-02]\n",
            " [ 8.95069736e-01 -1.21574735e+00]\n",
            " [ 2.52048987e-01  1.65675907e+00]\n",
            " [-1.87912578e-01 -2.32394033e-01]\n",
            " [ 3.19735382e-01 -1.04235025e-02]\n",
            " [-3.57128565e-01  1.13381895e+00]\n",
            " [-7.29403735e-01  5.33695082e-01]\n",
            " [ 1.33503130e+00 -3.04165513e-01]\n",
            " [ 9.96599328e-01  1.34497739e-01]\n",
            " [-6.95560538e-01  5.59210095e-01]\n",
            " [-1.57548367e+00  5.66269585e-01]\n",
            " [ 8.61226538e-01  8.52145307e-01]\n",
            " [ 1.16676198e-01 -1.55769559e+00]\n",
            " [-1.40626768e+00  7.96341720e-01]\n",
            " [-7.29403735e-01  7.07761931e-01]\n",
            " [ 8.61226538e-01 -1.27413942e+00]\n",
            " [ 1.84362592e-01  1.65376719e+00]\n",
            " [ 5.22794565e-01 -1.55487180e+00]\n",
            " [ 1.19965851e+00  1.31484444e+00]\n",
            " [ 8.95069736e-01 -7.59502608e-01]\n",
            " [-8.64776524e-01 -4.11604225e-01]\n",
            " [-4.58658156e-01 -1.00070184e+00]\n",
            " [ 1.60577688e+00  1.61957909e+00]\n",
            " [ 1.13197212e+00 -4.62197236e-01]\n",
            " [ 8.28330004e-02 -1.20737681e+00]\n",
            " [ 6.92010552e-01  1.69420798e+00]\n",
            " [ 1.16581531e+00 -4.61524904e-01]\n",
            " [-1.50779727e+00 -1.26149957e+00]\n",
            " [-1.50779727e+00 -3.08300357e-01]\n",
            " [ 4.88951368e-01  1.66607087e+00]\n",
            " [ 5.90480960e-01  1.40103745e+00]\n",
            " [ 1.60577688e+00 -1.34772620e+00]\n",
            " [-1.16936530e+00 -9.02911102e-01]\n",
            " [-2.21755775e-01 -9.96062752e-01]\n",
            " [ 6.58167355e-01 -1.43566468e-02]\n",
            " [ 2.52048987e-01  1.36086559e+00]\n",
            " [-5.26344551e-01  1.71509636e-01]\n",
            " [ 1.43656089e+00 -5.97705824e-01]\n",
            " [-4.58658156e-01 -1.51509864e-03]\n",
            " [ 8.28330004e-02  1.18239497e+00]\n",
            " [-1.00014931e+00  1.20975889e+00]\n",
            " [ 1.53809048e+00  1.20303557e+00]\n",
            " [ 1.26734491e+00 -2.05937755e-01]\n",
            " [-3.23285367e-01  9.89872592e-01]\n",
            " [-1.60932686e+00  1.55553943e+00]\n",
            " [-3.23285367e-01 -4.08578730e-01]\n",
            " [-1.67701326e+00 -1.43499494e+00]\n",
            " [-9.66306116e-01 -9.57067474e-01]\n",
            " [-4.92501354e-01  8.11032183e-01]\n",
            " [ 9.28912933e-01 -1.20972998e+00]\n",
            " [ 1.47040409e+00  5.82136629e-01]\n",
            " [ 4.89898031e-02  7.59901306e-01]\n",
            " [ 7.25853749e-01 -1.62781986e+00]\n",
            " [ 5.56637763e-01 -3.25007817e-01]\n",
            " [ 1.40271770e+00  1.31003726e+00]\n",
            " [ 5.90480960e-01 -1.16757474e+00]\n",
            " [-1.60932686e+00 -1.60344781e+00]\n",
            " [ 1.50424729e+00 -1.27598833e+00]\n",
            " [-8.98619721e-01 -9.66883527e-01]\n",
            " [-2.21755775e-01 -1.17534018e+00]\n",
            " [-2.55598973e-01 -4.96418953e-01]\n",
            " [-7.63246932e-01 -3.43967589e-01]\n",
            " [-5.26344551e-01  7.15661837e-01]\n",
            " [ 8.61226538e-01 -6.11723954e-01]\n",
            " [-8.30933327e-01  1.49160062e+00]\n",
            " [ 8.95069736e-01 -1.41852279e+00]\n",
            " [ 1.43656089e+00 -5.58407998e-01]\n",
            " [-1.86965915e-02 -5.53353046e-02]\n",
            " [-1.13552210e+00  1.30463745e-01]\n",
            " [ 1.36887450e+00 -7.82395526e-01]\n",
            " [ 1.36887450e+00 -2.29334921e-01]\n",
            " [ 1.06428572e+00  8.36311880e-01]\n",
            " [ 1.26734491e+00 -1.74472600e-01]\n",
            " [ 4.55108171e-01  5.67849566e-01]\n",
            " [-3.23285367e-01 -1.52666746e+00]\n",
            " [-8.98619721e-01 -2.04156074e-01]\n",
            " [-1.23705169e+00 -4.92754742e-01]\n",
            " [-3.57128565e-01 -1.38258663e+00]\n",
            " [ 1.36887450e+00 -1.60327973e+00]\n",
            " [ 6.92010552e-01 -2.89337999e-03]\n",
            " [-1.00014931e+00  7.07392148e-01]\n",
            " [ 5.90480960e-01 -1.26859268e+00]\n",
            " [-2.55598973e-01  6.95189316e-01]\n",
            " [-1.86965915e-02  5.04014194e-03]\n",
            " [-7.97090129e-01  6.68867504e-01]\n",
            " [ 2.85892184e-01  1.40460081e+00]\n",
            " [ 1.16676198e-01 -1.44356717e+00]\n",
            " [ 1.53809048e+00 -7.51569087e-01]\n",
            " [ 3.19735382e-01 -7.81151711e-01]\n",
            " [-7.29403735e-01 -6.82957569e-01]\n",
            " [ 1.13197212e+00  9.64290346e-01]\n",
            " [-4.58658156e-01 -8.41695240e-01]\n",
            " [-1.20320850e+00 -9.62210817e-01]\n",
            " [-3.23285367e-01  1.33195530e+00]\n",
            " [-1.00014931e+00 -4.56818577e-01]\n",
            " [ 8.61226538e-01  2.62711521e-01]\n",
            " [-6.27874143e-01 -5.13193646e-01]\n",
            " [-7.97090129e-01  8.31336620e-01]\n",
            " [-1.44011088e+00 -6.53530568e-02]\n",
            " [ 6.92010552e-01 -1.47545689e-01]\n",
            " [-5.25397888e-02  2.96126440e-01]\n",
            " [ 9.28912933e-01  1.46719496e+00]\n",
            " [ 4.21264973e-01  1.46700572e-01]\n",
            " [ 1.47040409e+00 -3.78290157e-01]\n",
            " [ 7.93540144e-01  2.29330219e-01]\n",
            " [-1.16936530e+00 -1.25427200e+00]\n",
            " [-8.63829861e-02  1.57396134e+00]\n",
            " [ 1.16581531e+00  7.97014053e-01]\n",
            " [ 1.16581531e+00 -3.68507721e-01]\n",
            " [-1.71085646e+00  1.70449466e+00]\n",
            " [-6.95560538e-01  7.62758719e-01]\n",
            " [ 1.23350171e+00  9.34306908e-03]\n",
            " [ 1.26734491e+00 -5.53130189e-01]\n",
            " [ 1.30118810e+00 -1.49873205e+00]\n",
            " [-5.25397888e-02  1.20401045e+00]\n",
            " [-1.33858129e+00 -1.09691261e+00]\n",
            " [ 4.55108171e-01  1.50370260e+00]\n",
            " [ 5.56637763e-01 -9.89003262e-01]\n",
            " [-5.94030946e-01 -1.79515093e-01]\n",
            " [-1.47395408e+00 -1.67816509e-01]\n",
            " [-1.30473809e+00  8.10136993e-02]\n",
            " [-1.71085646e+00 -3.17275994e-01]\n",
            " [ 1.26734491e+00 -1.35004574e+00]\n",
            " [-6.95560538e-01  5.91045032e-01]\n",
            " [-1.27089489e+00 -8.77967571e-01]\n",
            " [ 7.93540144e-01 -1.40796718e+00]\n",
            " [ 8.61226538e-01 -4.81077316e-02]\n",
            " [-3.57128565e-01  1.61699061e+00]\n",
            " [-1.10167891e+00  5.10129832e-01]\n",
            " [-1.23705169e+00  4.31063546e-01]\n",
            " [-1.27089489e+00 -1.33364083e+00]\n",
            " [ 1.16676198e-01  3.72032764e-01]\n",
            " [-1.30473809e+00 -2.83289593e-01]\n",
            " [-3.90971762e-01 -1.29323366e+00]\n",
            " [ 1.43656089e+00  2.93369877e-01]\n",
            " [ 4.88951368e-01  9.88662394e-01]\n",
            " [ 7.59696946e-01 -6.63695246e-01]\n",
            " [ 8.95069736e-01 -6.47760969e-01]\n",
            " [ 6.58167355e-01  1.05942538e+00]\n",
            " [ 1.16676198e-01 -1.29639362e+00]\n",
            " [ 1.23350171e+00 -5.64828772e-01]\n",
            " [ 4.88951368e-01 -9.70177955e-01]\n",
            " [ 1.50519395e-01  1.55621435e-02]\n",
            " [ 1.03044252e+00  1.25073755e+00]\n",
            " [-9.32462919e-01 -1.43506217e+00]\n",
            " [-1.87912578e-01  2.87823135e-01]\n",
            " [ 1.57193368e+00  8.51439358e-01]\n",
            " [-1.67701326e+00  1.37489618e-01]\n",
            " [-8.30933327e-01 -8.45729234e-01]\n",
            " [ 1.63962008e+00  8.31504703e-01]\n",
            " [ 1.16676198e-01  1.43478854e+00]\n",
            " [ 4.21264973e-01  7.90963062e-01]\n",
            " [-1.27089489e+00 -1.48083554e-01]\n",
            " [ 4.21264973e-01 -1.63614432e-01]\n",
            " [ 1.36887450e+00 -1.53764763e-01]\n",
            " [ 1.50424729e+00  1.48296115e+00]\n",
            " [ 2.18205790e-01 -5.32691285e-01]\n",
            " [ 1.63962008e+00  1.43371280e+00]\n",
            " [ 6.92010552e-01 -3.64339260e-01]\n",
            " [-1.50779727e+00 -1.12985689e+00]\n",
            " [ 5.22794565e-01  5.24383278e-01]\n",
            " [ 1.26734491e+00 -4.92317726e-01]\n",
            " [-1.47395408e+00  1.43912508e+00]\n",
            " [ 4.89898031e-02 -1.00392904e+00]\n",
            " [ 6.24324157e-01  7.91870710e-01]\n",
            " [ 9.62756130e-01 -1.13479854e+00]\n",
            " [-1.30473809e+00 -1.06264481e-01]\n",
            " [-1.20320850e+00 -1.01892205e+00]\n",
            " [ 4.55108171e-01 -5.41297139e-01]\n",
            " [ 8.28330004e-02  5.51377423e-01]\n",
            " [-1.40626768e+00 -1.33555698e+00]\n",
            " [-4.92501354e-01 -1.27753470e+00]\n",
            " [ 3.53578579e-01  2.16354205e-01]\n",
            " [-4.92501354e-01 -1.38704518e-01]\n",
            " [ 1.19965851e+00 -5.12252381e-01]\n",
            " [ 1.23350171e+00  1.03915455e+00]\n",
            " [ 8.28330004e-02 -9.98886547e-01]\n",
            " [-1.47395408e+00 -1.31585764e+00]\n",
            " [-5.26344551e-01 -1.32765707e+00]\n",
            " [ 2.85892184e-01 -5.54710170e-01]\n",
            " [ 1.03044252e+00  4.27466568e-01]\n",
            " [-7.29403735e-01 -8.31240472e-01]\n",
            " [-1.10167891e+00 -1.53382779e+00]\n",
            " [-1.64317006e+00  1.58105444e+00]\n",
            " [-1.20320850e+00 -1.27585387e+00]\n",
            " [ 1.26734491e+00  5.99785353e-01]\n",
            " [ 8.95069736e-01 -3.07896958e-01]\n",
            " [-5.60187748e-01  1.42947711e+00]\n",
            " [-9.66306116e-01 -1.39196567e+00]\n",
            " [-1.86965915e-02  1.11038817e+00]\n",
            " [-1.60932686e+00  6.21737005e-01]\n",
            " [-1.50779727e+00  1.53356662e-01]\n",
            " [-9.66306116e-01  1.23520667e+00]\n",
            " [-1.33858129e+00 -8.16281077e-01]\n",
            " [ 4.21264973e-01 -2.03067883e-02]\n",
            " [ 4.21264973e-01  4.91909625e-01]\n",
            " [-3.23285367e-01 -7.49674097e-02]\n",
            " [-1.20226183e-01 -1.63602231e+00]\n",
            " [-4.92501354e-01 -5.04318859e-01]\n",
            " [ 8.61226538e-01  2.60795374e-01]\n",
            " [-8.30933327e-01 -3.71566833e-01]\n",
            " [ 1.19965851e+00 -4.42754371e-02]\n",
            " [-1.54164047e+00  5.99213871e-01]\n",
            " [-1.30473809e+00 -1.28888465e-01]\n",
            " [ 4.89898031e-02  1.68761912e+00]\n",
            " [-3.90971762e-01 -9.41301280e-01]\n",
            " [-1.57548367e+00 -7.46392127e-01]\n",
            " [ 1.51466058e-02 -1.35808011e+00]\n",
            " [-4.92501354e-01 -1.45933337e+00]\n",
            " [-1.20226183e-01  1.57191072e+00]\n",
            " [ 1.16676198e-01  4.35769872e-01]\n",
            " [ 1.53809048e+00  6.58681668e-01]\n",
            " [-1.27089489e+00  1.01217287e-01]\n",
            " [ 1.57193368e+00 -1.03922649e+00]\n",
            " [-7.29403735e-01  4.88648813e-01]\n",
            " [-1.64317006e+00 -1.22963102e+00]\n",
            " [-1.06783571e+00 -1.85465234e-01]\n",
            " [ 1.09812892e+00  7.84475054e-01]\n",
            " [ 1.03044252e+00 -1.25188522e+00]\n",
            " [-1.67701326e+00 -5.94814795e-01]\n",
            " [-1.37242448e+00 -8.08078622e-01]\n",
            " [ 5.56637763e-01  1.47754887e+00]\n",
            " [-7.63246932e-01  1.35273037e+00]\n",
            " [ 1.26734491e+00  1.02864501e-01]\n",
            " [-2.21755775e-01  1.18706768e+00]\n",
            " [ 1.60577688e+00 -1.25507880e+00]\n",
            " [ 1.30118810e+00 -1.22838720e+00]\n",
            " [ 7.93540144e-01  1.14840856e+00]\n",
            " [-1.50779727e+00  9.99823111e-01]\n",
            " [-2.89442170e-01 -1.42205254e+00]\n",
            " [-2.21755775e-01  2.48458075e-01]\n",
            " [ 1.16581531e+00 -4.06091100e-01]\n",
            " [ 2.85892184e-01 -9.38263325e-02]\n",
            " [-8.98619721e-01 -1.05391695e+00]\n",
            " [-1.10167891e+00  8.79051061e-02]\n",
            " [ 3.19735382e-01 -1.17944140e+00]\n",
            " [ 6.58167355e-01  1.11475833e+00]\n",
            " [-1.64317006e+00 -3.19091292e-01]\n",
            " [-3.23285367e-01 -9.74514499e-01]\n",
            " [-4.24814959e-01  1.53025973e+00]\n",
            " [-1.10167891e+00  3.09909253e-01]\n",
            " [-3.90971762e-01  1.42917456e+00]\n",
            " [ 7.25853749e-01  1.71101629e+00]\n",
            " [ 1.06428572e+00  6.93205936e-01]\n",
            " [ 1.53809048e+00  5.50280534e-02]\n",
            " [ 7.93540144e-01  1.16884747e+00]\n",
            " [ 7.59696946e-01 -4.23256733e-02]\n",
            " [ 7.25853749e-01  1.63151299e+00]\n",
            " [-1.60932686e+00 -1.21722648e+00]\n",
            " [-4.24814959e-01  7.50488653e-01]\n",
            " [-9.66306116e-01  2.19816716e-01]\n",
            " [-1.03399251e+00 -6.08362292e-01]\n",
            " [ 1.43656089e+00 -1.28832563e+00]\n",
            " [-8.98619721e-01  1.10877457e+00]\n",
            " [ 6.92010552e-01 -1.14175718e+00]\n",
            " [-5.25397888e-02 -1.30631052e+00]\n",
            " [-5.26344551e-01 -1.13385727e+00]\n",
            " [-1.33858129e+00  2.92260529e-01]\n",
            " [-1.06783571e+00  1.66008711e+00]\n",
            " [-1.06783571e+00  7.95400455e-01]\n",
            " [ 1.57193368e+00  1.43616682e+00]\n",
            " [-1.30473809e+00 -9.10474841e-01]\n",
            " [ 4.89898031e-02 -1.64130012e+00]\n",
            " [ 1.09812892e+00 -1.54945952e+00]\n",
            " [ 4.21264973e-01 -4.89145305e-02]\n",
            " [ 8.61226538e-01  2.34641645e-01]\n",
            " [-4.58658156e-01  9.89133027e-01]\n",
            " [-1.60932686e+00 -2.62783456e-01]\n",
            " [-1.00014931e+00  7.92643892e-01]\n",
            " [-1.27089489e+00  5.48788943e-01]\n",
            " [ 5.22794565e-01  1.39303670e+00]\n",
            " [-1.16936530e+00 -7.84971546e-02]\n",
            " [ 1.16581531e+00 -5.52390623e-01]\n",
            " [ 9.28912933e-01 -1.56280532e+00]\n",
            " [ 6.92010552e-01 -1.56502402e+00]\n",
            " [-7.63246932e-01 -1.61275961e+00]\n",
            " [ 3.53578579e-01 -4.52851816e-01]\n",
            " [ 1.60577688e+00 -8.87502232e-02]\n",
            " [ 8.95069736e-01  1.26714246e+00]\n",
            " [ 2.85892184e-01  1.69666199e+00]\n",
            " [-7.97090129e-01  2.66005950e-01]\n",
            " [ 3.53578579e-01  1.64214830e-01]\n",
            " [-1.27089489e+00 -5.15580426e-01]\n",
            " [ 1.16676198e-01 -1.38369598e+00]\n",
            " [-3.23285367e-01 -2.91794598e-01]\n",
            " [-1.23705169e+00 -1.17960949e+00]\n",
            " [ 1.57193368e+00 -1.09556794e+00]\n",
            " [ 1.43656089e+00  1.66751638e+00]\n",
            " [-6.61717340e-01 -3.21881471e-01]\n",
            " [ 1.16581531e+00  9.41195729e-01]\n",
            " [-5.26344551e-01  1.31252489e+00]\n",
            " [ 1.51466058e-02  8.32177036e-01]\n",
            " [-1.60932686e+00  8.08208387e-01]\n",
            " [-2.89442170e-01  8.38597810e-01]\n",
            " [-5.25397888e-02 -3.53783642e-01]\n",
            " [ 1.30118810e+00 -1.00762687e+00]\n",
            " [-8.98619721e-01 -9.78514877e-01]\n",
            " [-5.94030946e-01 -1.03657078e+00]\n",
            " [-2.21755775e-01 -1.58852203e+00]\n",
            " [-1.47395408e+00  1.45220194e+00]\n",
            " [-1.13552210e+00 -1.09593772e+00]\n",
            " [ 1.26734491e+00 -4.97024053e-01]\n",
            " [ 1.57193368e+00  6.44966088e-01]\n",
            " [ 4.21264973e-01  1.70022535e+00]\n",
            " [-1.50779727e+00  4.51704150e-01]\n",
            " [-1.37242448e+00 -1.56109087e+00]\n",
            " [ 1.53809048e+00  1.63958097e+00]\n",
            " [-7.97090129e-01  1.44124293e+00]\n",
            " [-5.94030946e-01  4.56847492e-01]\n",
            " [-1.00014931e+00 -7.76613467e-01]\n",
            " [-1.64317006e+00 -2.51353806e-01]\n",
            " [ 1.30118810e+00  1.01447996e+00]\n",
            " [-8.98619721e-01  1.27786616e+00]\n",
            " [ 8.95069736e-01  3.70284700e-01]\n",
            " [ 2.52048987e-01  8.33790633e-01]\n",
            " [-3.57128565e-01  1.17449506e+00]\n",
            " [ 1.19965851e+00 -1.01344254e+00]\n",
            " [ 1.09812892e+00  9.52335289e-02]\n",
            " [-3.23285367e-01 -5.00049548e-01]\n",
            " [ 7.25853749e-01 -1.00991280e+00]\n",
            " [ 1.50519395e-01 -6.46718854e-01]\n",
            " [-2.89442170e-01 -3.21612538e-01]\n",
            " [-4.58658156e-01 -1.46010655e+00]\n",
            " [ 1.33503130e+00 -1.51917095e+00]\n",
            " [ 1.23350171e+00 -1.50034564e+00]\n",
            " [ 4.89898031e-02 -5.91116967e-01]\n",
            " [ 7.25853749e-01  7.15056737e-01]\n",
            " [ 1.30118810e+00  9.15378166e-01]\n",
            " [ 1.50424729e+00 -1.41797247e-01]\n",
            " [-1.27089489e+00  4.57150042e-01]\n",
            " [-1.40626768e+00  1.54185746e+00]\n",
            " [ 1.53809048e+00 -1.63790485e+00]\n",
            " [ 5.22794565e-01 -5.66442369e-01]\n",
            " [-1.54164047e+00 -8.59936605e-02]\n",
            " [ 5.56637763e-01  8.18158906e-01]\n",
            " [-8.64776524e-01 -5.66799693e-02]\n",
            " [-7.97090129e-01  8.72416128e-01]\n",
            " [ 1.51466058e-02  7.76184209e-02]\n",
            " [-6.61717340e-01 -2.93408195e-01]\n",
            " [-4.58658156e-01  1.61251960e+00]\n",
            " [-1.27089489e+00 -8.80018185e-01]\n",
            " [ 5.56637763e-01 -3.67230289e-01]\n",
            " [-2.89442170e-01 -8.79816485e-01]\n",
            " [ 1.50424729e+00 -7.85307712e-02]\n",
            " [-6.95560538e-01 -1.52515471e+00]\n",
            " [ 1.63962008e+00  4.60524163e-02]\n",
            " [-5.94030946e-01 -7.43501098e-01]\n",
            " [ 6.92010552e-01  1.07344351e+00]\n",
            " [ 1.16581531e+00  3.13338149e-01]\n",
            " [-1.37242448e+00  1.65638928e+00]\n",
            " [-5.26344551e-01  1.05727391e+00]\n",
            " [-1.60932686e+00  1.54898419e+00]\n",
            " [-7.29403735e-01 -1.42319550e+00]\n",
            " [-1.71085646e+00 -5.80057100e-01]\n",
            " [ 6.24324157e-01 -1.56371297e+00]\n",
            " [-1.03399251e+00 -1.05428673e+00]\n",
            " [ 1.30118810e+00  1.67585331e+00]\n",
            " [ 1.30118810e+00 -5.81065598e-01]\n",
            " [-4.92501354e-01 -6.99585335e-02]\n",
            " [ 4.55108171e-01 -1.36866935e+00]\n",
            " [ 8.28330004e-02  7.29175717e-01]\n",
            " [ 5.22794565e-01  5.70269962e-01]\n",
            " [-1.03399251e+00  1.20676701e+00]\n",
            " [-1.23705169e+00 -2.20628217e-01]\n",
            " [-1.54164047e+00 -1.10410656e+00]\n",
            " [ 1.16676198e-01  1.57923914e+00]\n",
            " [ 1.03044252e+00 -1.17486954e+00]\n",
            " [-1.03399251e+00  1.55617814e+00]\n",
            " [-3.23285367e-01  3.70923416e-01]\n",
            " [ 4.21264973e-01  1.66889467e+00]\n",
            " [-1.54069381e-01 -1.52145688e+00]\n",
            " [ 1.23350171e+00 -1.17866822e+00]\n",
            " [ 1.09812892e+00 -9.67858409e-01]\n",
            " [-1.47395408e+00 -2.92702246e-01]\n",
            " [-1.33858129e+00  1.52057815e+00]\n",
            " [ 1.03044252e+00  1.11247240e+00]\n",
            " [ 6.24324157e-01 -2.96601774e-01]\n",
            " [ 4.88951368e-01  1.47717909e+00]\n",
            " [ 1.23350171e+00  1.61914207e+00]\n",
            " [-4.24814959e-01 -4.57881850e-02]\n",
            " [ 7.25853749e-01  4.62541160e-02]\n",
            " [-1.86965915e-02  7.52707350e-01]\n",
            " [-1.16936530e+00 -8.08145855e-01]\n",
            " [-2.21755775e-01  1.36022688e+00]\n",
            " [-8.98619721e-01  1.48460836e+00]\n",
            " [-1.57548367e+00  4.57049192e-01]\n",
            " [ 1.26734491e+00  1.03569204e+00]\n",
            " [ 7.59696946e-01 -1.21588182e+00]\n",
            " [ 1.47040409e+00  1.48474283e+00]\n",
            " [-8.63829861e-02 -1.28842648e+00]\n",
            " [-1.06783571e+00 -1.55732581e+00]\n",
            " [-4.24814959e-01 -1.73127935e-01]\n",
            " [ 1.63962008e+00  1.94741305e-03]\n",
            " [-1.23705169e+00  7.59834073e-01]\n",
            " [ 1.53809048e+00 -7.47535092e-01]\n",
            " [ 1.40271770e+00 -6.89781742e-01]\n",
            " [ 7.25853749e-01 -1.03815076e+00]\n",
            " [ 9.96599328e-01  9.43347192e-01]\n",
            " [-1.33858129e+00 -1.97096584e-01]\n",
            " [ 5.56637763e-01  1.58088636e+00]\n",
            " [ 5.56637763e-01  1.41182839e+00]\n",
            " [-1.27089489e+00 -7.41584951e-01]\n",
            " [-2.21755775e-01 -6.64602895e-01]\n",
            " [ 1.57193368e+00 -3.88946625e-01]\n",
            " [ 1.50519395e-01 -1.48104970e+00]\n",
            " [ 1.43656089e+00  9.37565134e-01]\n",
            " [ 4.88951368e-01  1.62357946e+00]\n",
            " [-1.40626768e+00  1.13670998e+00]\n",
            " [ 5.22794565e-01  1.67360099e+00]\n",
            " [ 6.92010552e-01  1.38493509e+00]\n",
            " [-8.64776524e-01  8.74063342e-01]\n",
            " [ 9.28912933e-01  1.15664464e+00]\n",
            " [ 7.25853749e-01 -5.78443502e-01]\n",
            " [ 3.87421776e-01  1.35363802e+00]\n",
            " [-7.97090129e-01 -1.47377606e-01]\n",
            " [ 7.25853749e-01  1.25723802e-01]\n",
            " [-3.90971762e-01  8.98569857e-01]\n",
            " [ 8.95069736e-01 -8.69428950e-01]\n",
            " [-5.60187748e-01  1.27420195e+00]\n",
            " [ 1.09812892e+00  6.92231054e-01]\n",
            " [ 9.62756130e-01  9.94881468e-01]]\n"
          ]
        }
      ]
    },
    {
      "cell_type": "markdown",
      "source": [
        "**Training**"
      ],
      "metadata": {
        "id": "xJYBGF5Aekgb"
      }
    },
    {
      "cell_type": "code",
      "source": [
        "from sklearn.linear_model import LogisticRegression\n",
        "model = LogisticRegression()#loading the algorithm\n",
        "model.fit(X_train,Y_train )#train"
      ],
      "metadata": {
        "colab": {
          "base_uri": "https://localhost:8080/"
        },
        "id": "Mle5IqTpbn4m",
        "outputId": "ff015018-551e-4ae4-8725-814814173112"
      },
      "execution_count": null,
      "outputs": [
        {
          "output_type": "execute_result",
          "data": {
            "text/plain": [
              "LogisticRegression()"
            ]
          },
          "metadata": {},
          "execution_count": 52
        }
      ]
    },
    {
      "cell_type": "markdown",
      "source": [
        "predicting , weather new customer with Age & salary will buy or not "
      ],
      "metadata": {
        "id": "yWdCV5R6hKyA"
      }
    },
    {
      "cell_type": "code",
      "source": [
        "age = int(input (\"Enter the new customer age :\"))\n",
        "sal =int(input (\"Enter the new customer salary :\"))\n",
        "newCust = [[age,sal]]\n",
        "result = model.predict(sc.transform(newCust))\n",
        "print(result)\n",
        "if result==1:\n",
        "  print(\"customer will buy \")\n",
        "else:\n",
        "  print(\"customer wont buy\")"
      ],
      "metadata": {
        "colab": {
          "base_uri": "https://localhost:8080/"
        },
        "id": "JOwy6s13hKR5",
        "outputId": "3f9a09fc-f3a7-4ce2-c872-20abeb86a086"
      },
      "execution_count": null,
      "outputs": [
        {
          "output_type": "stream",
          "name": "stdout",
          "text": [
            "Enter the new customer age :91\n",
            "Enter the new customer salary :44525\n",
            "[1]\n",
            "customer will buy \n"
          ]
        }
      ]
    },
    {
      "cell_type": "markdown",
      "source": [
        "Prediction for All Test Data"
      ],
      "metadata": {
        "id": "GtBn5zZ6jz_B"
      }
    },
    {
      "cell_type": "code",
      "source": [
        "y_pred = model.predict(X_test)\n",
        "#print(np.concatenate((Y_pred.reshape(len(Y_pred),1), y_test.reshape(len(y_test),1)),1))"
      ],
      "metadata": {
        "id": "7YhHpbLmj4eL"
      },
      "execution_count": null,
      "outputs": []
    },
    {
      "cell_type": "markdown",
      "source": [
        "**Evalauting model**\n"
      ],
      "metadata": {
        "id": "k2XLH8mCMyec"
      }
    },
    {
      "cell_type": "code",
      "source": [
        "from sklearn.metrics import accuracy_score\n",
        "print(\"Accuracy of the model :{0}%\".format(accuracy_score(y_test,y_pred)*100))"
      ],
      "metadata": {
        "colab": {
          "base_uri": "https://localhost:8080/"
        },
        "id": "E7kllLCuM4ZC",
        "outputId": "1ce6d343-faea-477c-9949-74d66ce94a0e"
      },
      "execution_count": null,
      "outputs": [
        {
          "output_type": "stream",
          "name": "stdout",
          "text": [
            "Accuracy of the model :51.74825174825175%\n"
          ]
        }
      ]
    }
  ]
}